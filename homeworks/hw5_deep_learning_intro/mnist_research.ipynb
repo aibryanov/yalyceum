{
  "nbformat": 4,
  "nbformat_minor": 0,
  "metadata": {
    "colab": {
      "provenance": [],
      "toc_visible": true
    },
    "kernelspec": {
      "name": "python3",
      "display_name": "Python 3"
    },
    "language_info": {
      "name": "python"
    }
  },
  "cells": [
    {
      "cell_type": "markdown",
      "source": [
        "# Загрузка датасета и первичный обзор"
      ],
      "metadata": {
        "id": "TNFqLjkfk9Yb"
      }
    },
    {
      "cell_type": "code",
      "execution_count": null,
      "metadata": {
        "id": "pDhDuVnefqHN"
      },
      "outputs": [],
      "source": [
        "import numpy as np\n",
        "import matplotlib.pyplot as plt"
      ]
    },
    {
      "cell_type": "code",
      "source": [
        "# импортируем библиотеки\n",
        "import torch\n",
        "import torch.optim as optim\n",
        "import torchvision\n",
        "import torchvision.transforms as transforms\n",
        "from sklearn.model_selection import train_test_split\n",
        "\n",
        "# изображение -> вектор пикселей\n",
        "pic_to_vec = transforms.Compose([\n",
        "    transforms.ToTensor(),  # Преобразует в тензор (1, 28, 28)\n",
        "    transforms.Lambda(lambda x: x.view(-1))  # Разворачивает в (784,)\n",
        "])\n",
        "\n",
        "# загружаем датасет\n",
        "train_dataset = torchvision.datasets.MNIST(root='./data', train=True, transform=pic_to_vec, download=True)\n",
        "\n",
        "# выделим валидацию\n",
        "train_dataset, val_dataset = train_test_split(\n",
        "    train_dataset, test_size=0.15, random_state=42)\n",
        "\n",
        "test_dataset = torchvision.datasets.MNIST(root='./data', train=False, transform=pic_to_vec, download=True)\n",
        "\n",
        "# даталоадер\n",
        "train_loader = torch.utils.data.DataLoader(dataset=train_dataset, batch_size=64, shuffle=True)\n",
        "val_loader = torch.utils.data.DataLoader(dataset=val_dataset, batch_size=64, shuffle=True)\n",
        "test_loader = torch.utils.data.DataLoader(dataset=test_dataset, batch_size=64, shuffle=False)"
      ],
      "metadata": {
        "id": "xQYwRtLYf1QB",
        "collapsed": true
      },
      "execution_count": null,
      "outputs": []
    },
    {
      "cell_type": "code",
      "source": [
        "print(f\"Размер валидации: {len(val_dataset)}\")\n",
        "print(f\"Размер треина: {len(train_dataset)}\")\n",
        "print(f\"Размер теста: {len(test_dataset)}\")"
      ],
      "metadata": {
        "id": "5VfFhL8LHR6s",
        "outputId": "4611d8f9-97c6-4f3f-a338-14d45cf02c5e",
        "colab": {
          "base_uri": "https://localhost:8080/"
        }
      },
      "execution_count": null,
      "outputs": [
        {
          "output_type": "stream",
          "name": "stdout",
          "text": [
            "Размер валидации: 9000\n",
            "Размер треина: 51000\n",
            "Размер теста: 10000\n"
          ]
        }
      ]
    },
    {
      "cell_type": "code",
      "source": [
        "print(f\"Теперь объект это {type(train_dataset[0][0])} длиной {train_dataset[0][0].shape[0]}\")\n",
        "print(f\"Таргет это {type(train_dataset[0][1])}\")"
      ],
      "metadata": {
        "colab": {
          "base_uri": "https://localhost:8080/"
        },
        "id": "b4Y4fXTrmwRF",
        "outputId": "313542a5-9969-49e7-cde6-c5e9a27270ec"
      },
      "execution_count": null,
      "outputs": [
        {
          "output_type": "stream",
          "name": "stdout",
          "text": [
            "Теперь объект это <class 'torch.Tensor'> длиной 784\n",
            "Таргет это <class 'int'>\n"
          ]
        }
      ]
    },
    {
      "cell_type": "code",
      "source": [
        "import torch.nn as nn\n",
        "\n",
        "# напишем базовую модель\n",
        "class Net(nn.Module):\n",
        "    def __init__(self):\n",
        "        super(Net, self).__init__()\n",
        "\n",
        "        self.fc1 = nn.Linear(784, 256)\n",
        "        self.act1 = nn.ReLU()\n",
        "\n",
        "        self.fc2 = nn.Linear(256, 10)\n",
        "        #self.act2 = nn.Softmax(dim=1) кросс-энтропия принимает логиты на вход\n",
        "\n",
        "    def forward(self, x):\n",
        "        x = self.fc1(x)\n",
        "        x = self.act1(x)\n",
        "\n",
        "        x = self.fc2(x)\n",
        "\n",
        "        return x"
      ],
      "metadata": {
        "id": "549jdYPYg_iE"
      },
      "execution_count": null,
      "outputs": []
    },
    {
      "cell_type": "code",
      "source": [
        "model = Net()"
      ],
      "metadata": {
        "id": "27pgMu9RYVqH"
      },
      "execution_count": null,
      "outputs": []
    },
    {
      "cell_type": "code",
      "source": [
        "params_count = 0\n",
        "for param in model.parameters():\n",
        "    params_count += torch.numel(param)\n",
        "print(f\"Сеть имеет {params_count} параметров\")"
      ],
      "metadata": {
        "colab": {
          "base_uri": "https://localhost:8080/"
        },
        "id": "Zk7biYq_4dyh",
        "outputId": "2b9a589c-6b72-470b-e51e-7003d318d27c"
      },
      "execution_count": null,
      "outputs": [
        {
          "output_type": "stream",
          "name": "stdout",
          "text": [
            "Сеть имеет 203530 параметров\n"
          ]
        }
      ]
    },
    {
      "cell_type": "code",
      "source": [
        "with torch.no_grad():\n",
        "    x, y = train_dataset[0]  # Одно изображение и его метка\n",
        "    x = x.view(1, -1)  # Делаем из (784,) → (n_batch, 784), добавляя batch размерности\n",
        "    y_pred = model(x)\n",
        "\n",
        "print(f\"Сеть возвращает логиты: {y_pred}\")"
      ],
      "metadata": {
        "colab": {
          "base_uri": "https://localhost:8080/"
        },
        "id": "zOvCQ4HCo6gM",
        "outputId": "27622cf4-0cb3-429e-8f50-36b335e7408c"
      },
      "execution_count": null,
      "outputs": [
        {
          "output_type": "stream",
          "name": "stdout",
          "text": [
            "Сеть возвращает логиты: tensor([[ 0.0331,  0.0808, -0.0084, -0.0434,  0.0002,  0.1138, -0.1019,  0.0295,\n",
            "          0.0854,  0.0917]])\n"
          ]
        }
      ]
    },
    {
      "cell_type": "markdown",
      "source": [
        "А еще заведу словарик, куда буду добавлять отчеты по нейросетям"
      ],
      "metadata": {
        "id": "QiBM2E8zom_s"
      }
    },
    {
      "cell_type": "code",
      "source": [
        "research_info = {}"
      ],
      "metadata": {
        "id": "YCupyL8louJ4"
      },
      "execution_count": null,
      "outputs": []
    },
    {
      "cell_type": "markdown",
      "source": [
        "# Тренировочная функция с коллбеком"
      ],
      "metadata": {
        "id": "JrBJ79h1lMfe"
      }
    },
    {
      "cell_type": "code",
      "source": [
        "from IPython.display import clear_output\n",
        "\n",
        "# коллбек функция для отрисовки графика потери\n",
        "def plot_callback(loss_history_train, loss_history_val):\n",
        "    num_epoch = len(loss_history_train)\n",
        "    epochs = np.arange(1, num_epoch + 1)\n",
        "\n",
        "    plt.figure(figsize=(8, 5))\n",
        "    plt.plot(epochs, loss_history_train, linestyle='-', color='b', label='Training Loss')\n",
        "    plt.plot(epochs, loss_history_val, linestyle='-', color='r', label='Validation Loss')\n",
        "\n",
        "    plt.xlabel(\"Epochs\")\n",
        "    plt.ylabel(\"Loss\")\n",
        "    plt.title(\"Training and Validation Loss over Epochs\")\n",
        "    plt.legend()\n",
        "    plt.grid(True)\n",
        "\n",
        "    clear_output()  # очищаем предыдущий вывод в Colab\n",
        "\n",
        "    plt.show()"
      ],
      "metadata": {
        "id": "PAaMnIow0azy"
      },
      "execution_count": null,
      "outputs": []
    },
    {
      "cell_type": "code",
      "source": [
        "# функция тренировки модели с отрисовкой графика лосса\n",
        "def train(model, train_loader, val_loader, criterion, optimizer, num_epoch):\n",
        "    train_loss_history = []\n",
        "    val_loss_history = []\n",
        "\n",
        "    fig = plt.figure(figsize=(8, 5))\n",
        "\n",
        "    for epoch in range(num_epoch):\n",
        "        model.train()\n",
        "        epoch_train_loss = []\n",
        "\n",
        "        # Обучение модели\n",
        "        for X_batch, y_batch in train_loader:\n",
        "            optimizer.zero_grad()\n",
        "            y_pred = model(X_batch)\n",
        "            loss = criterion(y_pred, y_batch)\n",
        "            epoch_train_loss.append(loss.item())\n",
        "\n",
        "            loss.backward()\n",
        "            optimizer.step()\n",
        "\n",
        "        mean_train_loss = np.mean(epoch_train_loss)\n",
        "        train_loss_history.append(mean_train_loss)\n",
        "\n",
        "        model.eval()\n",
        "        epoch_val_loss = []\n",
        "\n",
        "        # Оценка модели на валидационном наборе\n",
        "        with torch.no_grad():\n",
        "            for X_batch, y_batch in val_loader:\n",
        "                y_pred = model(X_batch)\n",
        "                loss = criterion(y_pred, y_batch)\n",
        "                epoch_val_loss.append(loss.item())\n",
        "\n",
        "        mean_val_loss = np.mean(epoch_val_loss)\n",
        "        val_loss_history.append(mean_val_loss)\n",
        "\n",
        "        # Отрисовка графика\n",
        "        plot_callback(train_loss_history, val_loss_history)\n",
        "\n",
        "    min_loss = np.min(val_loss_history)\n",
        "\n",
        "    return model, min_loss"
      ],
      "metadata": {
        "id": "EJKegQ2xhHNU"
      },
      "execution_count": null,
      "outputs": []
    },
    {
      "cell_type": "markdown",
      "source": [
        "# Базовая нейронная сеть без борьбы с переобучением"
      ],
      "metadata": {
        "id": "ELGvaY-mlayw"
      }
    },
    {
      "cell_type": "code",
      "source": [
        "# будем обучать много эпох\n",
        "model_withno_reg = Net()"
      ],
      "metadata": {
        "id": "7nmoySwAbwra"
      },
      "execution_count": null,
      "outputs": []
    },
    {
      "cell_type": "code",
      "source": [
        "# net summary\n",
        "model_withno_reg"
      ],
      "metadata": {
        "colab": {
          "base_uri": "https://localhost:8080/"
        },
        "id": "FvQp6vzdnZi2",
        "outputId": "44534ea9-e855-47a7-bb6e-20bdd82b80d6"
      },
      "execution_count": null,
      "outputs": [
        {
          "output_type": "execute_result",
          "data": {
            "text/plain": [
              "Net(\n",
              "  (fc1): Linear(in_features=784, out_features=256, bias=True)\n",
              "  (act1): ReLU()\n",
              "  (fc2): Linear(in_features=256, out_features=10, bias=True)\n",
              ")"
            ]
          },
          "metadata": {},
          "execution_count": 37
        }
      ]
    },
    {
      "cell_type": "code",
      "source": [
        "params_count = 0\n",
        "for param in model_withno_reg.parameters():\n",
        "    params_count += torch.numel(param)\n",
        "print(f\"Сеть имеет {params_count} параметров\")"
      ],
      "metadata": {
        "colab": {
          "base_uri": "https://localhost:8080/"
        },
        "id": "pYc2gbiCnlnO",
        "outputId": "33f7f7ef-c3e2-4ef9-a170-a40f2bee8c9b"
      },
      "execution_count": null,
      "outputs": [
        {
          "output_type": "stream",
          "name": "stdout",
          "text": [
            "Сеть имеет 203530 параметров\n"
          ]
        }
      ]
    },
    {
      "cell_type": "code",
      "source": [
        "# лосс-функция — кросс-энтропия\n",
        "criterion = torch.nn.CrossEntropyLoss()\n",
        "\n",
        "# буду использовать Adam, он быстрее чем SGD\n",
        "optimizer_withno_reg = torch.optim.Adam(model_withno_reg.parameters())"
      ],
      "metadata": {
        "id": "IgJJTk_sidfW"
      },
      "execution_count": null,
      "outputs": []
    },
    {
      "cell_type": "code",
      "source": [
        "model_withno_reg, min_loss_withno_reg = train(model_withno_reg, train_loader, val_loader, criterion, optimizer_withno_reg, 50)"
      ],
      "metadata": {
        "colab": {
          "base_uri": "https://localhost:8080/",
          "height": 487
        },
        "id": "beKr11Zwj5pJ",
        "outputId": "6aa0d5ed-58b2-42d4-84df-e331d572e4f0"
      },
      "execution_count": null,
      "outputs": [
        {
          "output_type": "display_data",
          "data": {
            "text/plain": [
              "<Figure size 800x500 with 1 Axes>"
            ],
            "image/png": "[encoded data removed]"
          },
          "metadata": {}
        }
      ]
    },
    {
      "cell_type": "code",
      "source": [
        "from sklearn.metrics import accuracy_score, precision_score, recall_score, f1_score\n",
        "\n",
        "model_withno_reg.eval()\n",
        "\n",
        "accuracy_base_withno_reg = 0\n",
        "precision_base_withno_reg = 0\n",
        "recall_base_withno_reg = 0\n",
        "f1_base_withno_reg = 0\n",
        "\n",
        "with torch.no_grad():\n",
        "    for X_batch, y_batch in test_loader:\n",
        "        y_pred = torch.argmax(model_withno_reg(X_batch), dim=1)\n",
        "        accuracy_base_withno_reg += accuracy_score(y_pred, y_batch)\n",
        "        precision_base_withno_reg += precision_score(y_pred, y_batch, average='macro')\n",
        "        recall_base_withno_reg += recall_score(y_pred, y_batch, average='macro')\n",
        "        f1_base_withno_reg += f1_score(y_pred, y_batch, average='macro')\n",
        "\n",
        "k = len(test_loader)\n",
        "\n",
        "accuracy_base_withno_reg /= k\n",
        "precision_base_withno_reg /= k\n",
        "recall_base_withno_reg /= k\n",
        "f1_base_withno_reg /= k\n",
        "\n",
        "new_log = [\n",
        "    accuracy_base_withno_reg,\n",
        "    precision_base_withno_reg,\n",
        "    recall_base_withno_reg,\n",
        "    f1_base_withno_reg,\n",
        "    min_loss_withno_reg,\n",
        "    50\n",
        "]\n",
        "\n",
        "research_info['model_withno_reg'] = new_log\n",
        "\n",
        "print(f\"Данные для будущей таблички: {new_log}\")"
      ],
      "metadata": {
        "colab": {
          "base_uri": "https://localhost:8080/"
        },
        "id": "B6Kv84NenzuV",
        "outputId": "23724414-a94b-4641-f76e-45b9c412932e"
      },
      "execution_count": null,
      "outputs": [
        {
          "output_type": "stream",
          "name": "stdout",
          "text": [
            "Данные для будущей таблички: [0.9811902866242038, 0.9811082494999694, 0.9804812402742343, 0.9789782654836061, 0.06957140027261371, 50]\n"
          ]
        }
      ]
    },
    {
      "cell_type": "markdown",
      "source": [
        "Видим явное переобучение: примерно на 8ой эпохе лосс на валидации начал расти, хотя на трейне лосс падает. <p>\n",
        "В идеале применить EarlyStopping алгоритм на валидации, чтобы сохранить веса в ее праймовом состоянии (8ая эпоха), но я просто обучу модель на +-8 эпох."
      ],
      "metadata": {
        "id": "QaPjhfGmRNmC"
      }
    },
    {
      "cell_type": "markdown",
      "source": [
        "# Базовая нейронная сеть без борьбы с переобучением (меньше эпох)"
      ],
      "metadata": {
        "id": "jUzeUqTqqZEi"
      }
    },
    {
      "cell_type": "code",
      "source": [
        "# будем обучать пока график лосса на валидации не поползет вверх\n",
        "model_withno_reg_early = Net()"
      ],
      "metadata": {
        "id": "CmlBDJ6IqoQZ"
      },
      "execution_count": null,
      "outputs": []
    },
    {
      "cell_type": "code",
      "source": [
        "# net summary\n",
        "model_withno_reg_early"
      ],
      "metadata": {
        "colab": {
          "base_uri": "https://localhost:8080/"
        },
        "id": "_nRlWDmVrLkD",
        "outputId": "2266a02d-7bda-4ab3-8c94-4bf76b6f3822"
      },
      "execution_count": null,
      "outputs": [
        {
          "output_type": "execute_result",
          "data": {
            "text/plain": [
              "Net(\n",
              "  (fc1): Linear(in_features=784, out_features=256, bias=True)\n",
              "  (act1): ReLU()\n",
              "  (fc2): Linear(in_features=256, out_features=10, bias=True)\n",
              ")"
            ]
          },
          "metadata": {},
          "execution_count": 43
        }
      ]
    },
    {
      "cell_type": "code",
      "source": [
        "params_count = 0\n",
        "for param in model_withno_reg_early.parameters():\n",
        "    params_count += torch.numel(param)\n",
        "print(f\"Сеть имеет {params_count} параметров\")"
      ],
      "metadata": {
        "colab": {
          "base_uri": "https://localhost:8080/"
        },
        "id": "dt8x2Y45rMhw",
        "outputId": "90d2c2c2-67a9-4f43-aec8-99d0987af475"
      },
      "execution_count": null,
      "outputs": [
        {
          "output_type": "stream",
          "name": "stdout",
          "text": [
            "Сеть имеет 203530 параметров\n"
          ]
        }
      ]
    },
    {
      "cell_type": "code",
      "source": [
        "# лосс-функция — кросс-энтропия\n",
        "criterion = torch.nn.CrossEntropyLoss()\n",
        "\n",
        "# буду использовать Adam, он быстрее чем SGD\n",
        "optimizer_withno_reg_early = torch.optim.Adam(model_withno_reg_early.parameters())"
      ],
      "metadata": {
        "id": "wAxU5EVmrUEk"
      },
      "execution_count": null,
      "outputs": []
    },
    {
      "cell_type": "code",
      "source": [
        "model_withno_reg_early, min_loss_withno_reg_early = train(model_withno_reg_early, train_loader, val_loader, criterion, optimizer_withno_reg_early, 8)"
      ],
      "metadata": {
        "colab": {
          "base_uri": "https://localhost:8080/",
          "height": 487
        },
        "id": "bnuWLX7uRJJ2",
        "outputId": "84192594-39be-4790-8d48-d2563c9f44bc"
      },
      "execution_count": null,
      "outputs": [
        {
          "output_type": "display_data",
          "data": {
            "text/plain": [
              "<Figure size 800x500 with 1 Axes>"
            ],
            "image/png": "[encoded data removed]"
          },
          "metadata": {}
        }
      ]
    },
    {
      "cell_type": "code",
      "source": [
        "from sklearn.metrics import accuracy_score, precision_score, recall_score, f1_score\n",
        "\n",
        "model_withno_reg_early.eval()\n",
        "\n",
        "accuracy_base_withno_reg_early = 0\n",
        "precision_base_withno_reg_early = 0\n",
        "recall_base_withno_reg_early = 0\n",
        "f1_base_withno_reg_early = 0\n",
        "\n",
        "with torch.no_grad():\n",
        "    for X_batch, y_batch in test_loader:\n",
        "        y_pred = torch.argmax(model_withno_reg_early(X_batch), dim=1)\n",
        "        accuracy_base_withno_reg_early += accuracy_score(y_pred, y_batch)\n",
        "        precision_base_withno_reg_early += precision_score(y_pred, y_batch, average='macro')\n",
        "        recall_base_withno_reg_early += recall_score(y_pred, y_batch, average='macro')\n",
        "        f1_base_withno_reg_early += f1_score(y_pred, y_batch, average='macro')\n",
        "\n",
        "k = len(test_loader)\n",
        "\n",
        "accuracy_base_withno_reg_early /= k\n",
        "precision_base_withno_reg_early /= k\n",
        "recall_base_withno_reg_early /= k\n",
        "f1_base_withno_reg_early /= k\n",
        "\n",
        "new_log = [\n",
        "    accuracy_base_withno_reg_early,\n",
        "    precision_base_withno_reg_early,\n",
        "    recall_base_withno_reg_early,\n",
        "    f1_base_withno_reg_early,\n",
        "    min_loss_withno_reg_early,\n",
        "    8\n",
        "]\n",
        "\n",
        "research_info['model_withno_reg_early'] = new_log\n",
        "\n",
        "print(f\"Данные для будущей таблички: {new_log}\")"
      ],
      "metadata": {
        "id": "-U-5saa5qGAk",
        "colab": {
          "base_uri": "https://localhost:8080/"
        },
        "outputId": "bc537709-24fb-4536-d0dc-1f8ea5bd14c4"
      },
      "execution_count": null,
      "outputs": [
        {
          "output_type": "stream",
          "name": "stdout",
          "text": [
            "Данные для будущей таблички: [0.977906050955414, 0.9778738518257063, 0.9783970211199516, 0.9760011952932518, 0.07091139207085502, 8]\n"
          ]
        }
      ]
    },
    {
      "cell_type": "markdown",
      "source": [
        "# Нейронная сеть с Dropout (0.7)"
      ],
      "metadata": {
        "id": "tyozAOkoswEA"
      }
    },
    {
      "cell_type": "code",
      "source": [
        "# напишем модель c dropout 0.7\n",
        "class Net_dropout(nn.Module):\n",
        "    def __init__(self):\n",
        "        super(Net_dropout, self).__init__()\n",
        "\n",
        "        self.drp = nn.Dropout(0.7)\n",
        "\n",
        "        self.fc1 = nn.Linear(784, 256)\n",
        "        self.act1 = nn.ReLU()\n",
        "\n",
        "        self.fc2 = nn.Linear(256, 10)\n",
        "        #self.act2 = nn.Softmax(dim=1) кросс-энтропия принимает логиты на вход\n",
        "\n",
        "    def forward(self, x):\n",
        "        x = self.fc1(x)\n",
        "        x = self.drp(x)\n",
        "\n",
        "        x = self.act1(x)\n",
        "\n",
        "        x = self.fc2(x)\n",
        "\n",
        "        return x"
      ],
      "metadata": {
        "id": "dVw5F2Ucgkwy"
      },
      "execution_count": null,
      "outputs": []
    },
    {
      "cell_type": "code",
      "source": [
        "model_drp = Net_dropout()"
      ],
      "metadata": {
        "id": "Nnbp94AY0igp"
      },
      "execution_count": null,
      "outputs": []
    },
    {
      "cell_type": "code",
      "source": [
        "# net summary\n",
        "model_drp"
      ],
      "metadata": {
        "colab": {
          "base_uri": "https://localhost:8080/"
        },
        "id": "72WGp37JtGZ-",
        "outputId": "04acf73d-423a-4a65-edda-1119fd59acfd"
      },
      "execution_count": null,
      "outputs": [
        {
          "output_type": "execute_result",
          "data": {
            "text/plain": [
              "Net_dropout(\n",
              "  (drp): Dropout(p=0.7, inplace=False)\n",
              "  (fc1): Linear(in_features=784, out_features=256, bias=True)\n",
              "  (act1): ReLU()\n",
              "  (fc2): Linear(in_features=256, out_features=10, bias=True)\n",
              ")"
            ]
          },
          "metadata": {},
          "execution_count": 50
        }
      ]
    },
    {
      "cell_type": "code",
      "source": [
        "params_count = 0\n",
        "for param in model_drp.parameters():\n",
        "    params_count += torch.numel(param)\n",
        "print(f\"Сеть имеет {params_count} параметров\")"
      ],
      "metadata": {
        "colab": {
          "base_uri": "https://localhost:8080/"
        },
        "id": "JBCHXA0btKdn",
        "outputId": "80b039ed-d164-4276-9f58-4485a8782423"
      },
      "execution_count": null,
      "outputs": [
        {
          "output_type": "stream",
          "name": "stdout",
          "text": [
            "Сеть имеет 203530 параметров\n"
          ]
        }
      ]
    },
    {
      "cell_type": "code",
      "source": [
        "# лосс-функция — кросс-энтропия\n",
        "criterion = torch.nn.CrossEntropyLoss()\n",
        "\n",
        "# буду использовать Adam, он быстрее чем SGD\n",
        "optimizer_drp = torch.optim.Adam(model_drp.parameters())"
      ],
      "metadata": {
        "id": "mA6g5EFj1iMM"
      },
      "execution_count": null,
      "outputs": []
    },
    {
      "cell_type": "code",
      "source": [
        "model_drp, min_loss_drp = train(model_drp, train_loader, val_loader, criterion, optimizer_drp, 30)"
      ],
      "metadata": {
        "colab": {
          "base_uri": "https://localhost:8080/",
          "height": 487
        },
        "id": "xgBk2zkT2Fwz",
        "outputId": "f6ba2fcf-bd5e-4237-c7f9-8662d9188718"
      },
      "execution_count": null,
      "outputs": [
        {
          "output_type": "display_data",
          "data": {
            "text/plain": [
              "<Figure size 800x500 with 1 Axes>"
            ],
            "image/png": "[encoded data removed]"
          },
          "metadata": {}
        }
      ]
    },
    {
      "cell_type": "markdown",
      "source": [
        "На графике видим, что на валидации лосс не растет, хотя на трейне падает, то есть это говорит о том, что дропаут работает и модель не переобучается"
      ],
      "metadata": {
        "id": "UsmzkjPOuZ-I"
      }
    },
    {
      "cell_type": "code",
      "source": [
        "from sklearn.metrics import accuracy_score, precision_score, recall_score, f1_score\n",
        "\n",
        "model_drp.eval()\n",
        "\n",
        "accuracy_base_drp = 0\n",
        "precision_base_drp = 0\n",
        "recall_base_drp = 0\n",
        "f1_base_drp = 0\n",
        "\n",
        "with torch.no_grad():\n",
        "    for X_batch, y_batch in test_loader:\n",
        "        y_pred = torch.argmax(model_drp(X_batch), dim=1)\n",
        "        accuracy_base_drp += accuracy_score(y_pred, y_batch)\n",
        "        precision_base_drp += precision_score(y_pred, y_batch, average='macro')\n",
        "        recall_base_drp += recall_score(y_pred, y_batch, average='macro')\n",
        "        f1_base_drp += f1_score(y_pred, y_batch, average='macro')\n",
        "\n",
        "k = len(test_loader)\n",
        "\n",
        "accuracy_base_drp /= k\n",
        "precision_base_drp /= k\n",
        "recall_base_drp /= k\n",
        "f1_base_drp /= k\n",
        "\n",
        "new_log = [\n",
        "    accuracy_base_drp,\n",
        "    precision_base_drp,\n",
        "    recall_base_drp,\n",
        "    f1_base_drp,\n",
        "    min_loss_drp,\n",
        "    8\n",
        "]\n",
        "\n",
        "research_info['model_drp'] = new_log\n",
        "\n",
        "print(f\"Данные для будущей таблички: {new_log}\")"
      ],
      "metadata": {
        "colab": {
          "base_uri": "https://localhost:8080/"
        },
        "id": "XLCscpZs2TW6",
        "outputId": "5a81f821-5221-4837-8fb2-31d0ee17ed89"
      },
      "execution_count": null,
      "outputs": [
        {
          "output_type": "stream",
          "name": "stdout",
          "text": [
            "Данные для будущей таблички: [0.9793988853503185, 0.9789151636631964, 0.9798061298220536, 0.9772321688436693, 0.07639689394768248, 8]\n"
          ]
        }
      ]
    },
    {
      "cell_type": "markdown",
      "source": [
        "# Нейронная сеть с Dropout (0.3)"
      ],
      "metadata": {
        "id": "GMix7NB7us0o"
      }
    },
    {
      "cell_type": "code",
      "source": [
        "# напишем модель c dropout 0.7\n",
        "class Net_dropout_low(nn.Module):\n",
        "    def __init__(self):\n",
        "        super(Net_dropout_low, self).__init__()\n",
        "\n",
        "        self.drp = nn.Dropout(0.3)\n",
        "\n",
        "        self.fc1 = nn.Linear(784, 256)\n",
        "        self.act1 = nn.ReLU()\n",
        "\n",
        "        self.fc2 = nn.Linear(256, 10)\n",
        "        #self.act2 = nn.Softmax(dim=1) кросс-энтропия принимает логиты на вход\n",
        "\n",
        "    def forward(self, x):\n",
        "        x = self.fc1(x)\n",
        "        x = self.drp(x)\n",
        "\n",
        "        x = self.act1(x)\n",
        "\n",
        "        x = self.fc2(x)\n",
        "\n",
        "        return x"
      ],
      "metadata": {
        "id": "TSrM7DJ14Tpr"
      },
      "execution_count": null,
      "outputs": []
    },
    {
      "cell_type": "code",
      "source": [
        "model_drp_low = Net_dropout_low()"
      ],
      "metadata": {
        "id": "0aX8oau45w-8"
      },
      "execution_count": null,
      "outputs": []
    },
    {
      "cell_type": "code",
      "source": [
        "# net summary\n",
        "model_drp_low"
      ],
      "metadata": {
        "colab": {
          "base_uri": "https://localhost:8080/"
        },
        "id": "V74drN4Xu7zf",
        "outputId": "fe54d61d-4e83-44e4-c531-bb69c559bb92"
      },
      "execution_count": null,
      "outputs": [
        {
          "output_type": "execute_result",
          "data": {
            "text/plain": [
              "Net_dropout_low(\n",
              "  (drp): Dropout(p=0.3, inplace=False)\n",
              "  (fc1): Linear(in_features=784, out_features=256, bias=True)\n",
              "  (act1): ReLU()\n",
              "  (fc2): Linear(in_features=256, out_features=10, bias=True)\n",
              ")"
            ]
          },
          "metadata": {},
          "execution_count": 64
        }
      ]
    },
    {
      "cell_type": "code",
      "source": [
        "params_count = 0\n",
        "for param in model_drp_low.parameters():\n",
        "    params_count += torch.numel(param)\n",
        "print(f\"Сеть имеет {params_count} параметров\")"
      ],
      "metadata": {
        "colab": {
          "base_uri": "https://localhost:8080/"
        },
        "id": "HIUcmdh4u-56",
        "outputId": "5bb37b99-e088-40ba-e1fb-36273f70d745"
      },
      "execution_count": null,
      "outputs": [
        {
          "output_type": "stream",
          "name": "stdout",
          "text": [
            "Сеть имеет 203530 параметров\n"
          ]
        }
      ]
    },
    {
      "cell_type": "code",
      "source": [
        "# лосс-функция — кросс-энтропия\n",
        "criterion = torch.nn.CrossEntropyLoss()\n",
        "\n",
        "# буду использовать Adam, он быстрее чем SGD\n",
        "optimizer_drp_low = torch.optim.Adam(model_drp_low.parameters())"
      ],
      "metadata": {
        "id": "nxobTEZR54QT"
      },
      "execution_count": null,
      "outputs": []
    },
    {
      "cell_type": "code",
      "source": [
        "model_drp_low, min_loss_drp_low = train(model_drp_low, train_loader, val_loader, criterion, optimizer_drp_low, 30)"
      ],
      "metadata": {
        "colab": {
          "base_uri": "https://localhost:8080/",
          "height": 487
        },
        "id": "YM6bUzHh5-d2",
        "outputId": "8cdf1ffe-1525-48ee-9792-11d41cb65d5f"
      },
      "execution_count": null,
      "outputs": [
        {
          "output_type": "display_data",
          "data": {
            "text/plain": [
              "<Figure size 800x500 with 1 Axes>"
            ],
            "image/png": "[encoded data removed]"
          },
          "metadata": {}
        }
      ]
    },
    {
      "cell_type": "markdown",
      "source": [
        "По графику видно, что сначала модель хоть и переобучается, но медленно, походу ей недостаточно выключения лишь 0.3 нейронов (с 0.7 была ситуация лучше)"
      ],
      "metadata": {
        "id": "tO6qDWUHwXSs"
      }
    },
    {
      "cell_type": "code",
      "source": [
        "from sklearn.metrics import accuracy_score, precision_score, recall_score, f1_score\n",
        "\n",
        "model_drp_low.eval()\n",
        "\n",
        "accuracy_base_drp_low = 0\n",
        "precision_base_drp_low = 0\n",
        "recall_base_drp_low = 0\n",
        "f1_base_drp_low = 0\n",
        "\n",
        "with torch.no_grad():\n",
        "    for X_batch, y_batch in test_loader:\n",
        "        y_pred = torch.argmax(model_drp_low(X_batch), dim=1)\n",
        "        accuracy_base_drp_low += accuracy_score(y_pred, y_batch)\n",
        "        precision_base_drp_low += precision_score(y_pred, y_batch, average='macro')\n",
        "        recall_base_drp_low += recall_score(y_pred, y_batch, average='macro')\n",
        "        f1_base_drp_low += f1_score(y_pred, y_batch, average='macro')\n",
        "\n",
        "k = len(test_loader)\n",
        "\n",
        "accuracy_base_drp_low /= k\n",
        "precision_base_drp_low /= k\n",
        "recall_base_drp_low /= k\n",
        "f1_base_drp_low /= k\n",
        "\n",
        "new_log = [\n",
        "    accuracy_base_drp_low,\n",
        "    precision_base_drp_low,\n",
        "    recall_base_drp_low,\n",
        "    f1_base_drp_low,\n",
        "    min_loss_drp_low,\n",
        "    30\n",
        "]\n",
        "\n",
        "research_info['model_drp_low'] = new_log\n",
        "\n",
        "print(f\"Данные для будущей таблички: {new_log}\")"
      ],
      "metadata": {
        "colab": {
          "base_uri": "https://localhost:8080/"
        },
        "id": "zDxHg0T46EWN",
        "outputId": "15fe3533-3050-4000-cb20-0e5569cc7f3a"
      },
      "execution_count": null,
      "outputs": [
        {
          "output_type": "stream",
          "name": "stdout",
          "text": [
            "Данные для будущей таблички: [0.9818869426751592, 0.9819630057715488, 0.9817501076418276, 0.9802351444533822, 0.06264832278247923, 30]\n"
          ]
        }
      ]
    },
    {
      "cell_type": "markdown",
      "source": [
        "# Нейронная сеть с BatchNorm"
      ],
      "metadata": {
        "id": "5X2wwqO8v2UP"
      }
    },
    {
      "cell_type": "code",
      "source": [
        "# напишем модель c batchnorm\n",
        "class Net_batchnorm(nn.Module):\n",
        "    def __init__(self):\n",
        "        super(Net_batchnorm, self).__init__()\n",
        "\n",
        "        self.fc1 = nn.Linear(784, 256)\n",
        "        self.btch = nn.BatchNorm1d(256)\n",
        "        self.act1 = nn.ReLU()\n",
        "\n",
        "        self.fc2 = nn.Linear(256, 10)\n",
        "        #self.act2 = nn.Softmax(dim=1) кросс-энтропия принимает логиты на вход\n",
        "\n",
        "    def forward(self, x):\n",
        "        x = self.fc1(x)\n",
        "        x = self.btch(x)\n",
        "\n",
        "        x = self.act1(x)\n",
        "\n",
        "        x = self.fc2(x)\n",
        "\n",
        "        return x"
      ],
      "metadata": {
        "id": "dz9-96sL7HBk"
      },
      "execution_count": null,
      "outputs": []
    },
    {
      "cell_type": "code",
      "source": [
        "model_batch = Net_batchnorm()"
      ],
      "metadata": {
        "id": "rD4mtNGVbgM-"
      },
      "execution_count": null,
      "outputs": []
    },
    {
      "cell_type": "code",
      "source": [
        "# net summary\n",
        "model_batch"
      ],
      "metadata": {
        "colab": {
          "base_uri": "https://localhost:8080/"
        },
        "id": "mgJC7W3FxbqJ",
        "outputId": "80fef51c-543a-46eb-e567-c083bd943c66"
      },
      "execution_count": null,
      "outputs": [
        {
          "output_type": "execute_result",
          "data": {
            "text/plain": [
              "Net_batchnorm(\n",
              "  (fc1): Linear(in_features=784, out_features=256, bias=True)\n",
              "  (btch): BatchNorm1d(256, eps=1e-05, momentum=0.1, affine=True, track_running_stats=True)\n",
              "  (act1): ReLU()\n",
              "  (fc2): Linear(in_features=256, out_features=10, bias=True)\n",
              ")"
            ]
          },
          "metadata": {},
          "execution_count": 71
        }
      ]
    },
    {
      "cell_type": "code",
      "source": [
        "# лосс-функция — кросс-энтропия\n",
        "criterion = torch.nn.CrossEntropyLoss()\n",
        "\n",
        "# буду использовать Adam, он быстрее чем SGD\n",
        "optimizer_batch = torch.optim.Adam(model_batch.parameters())"
      ],
      "metadata": {
        "id": "PZ6DLnmgyNLn"
      },
      "execution_count": null,
      "outputs": []
    },
    {
      "cell_type": "code",
      "source": [
        "params_count = 0\n",
        "for param in model_batch.parameters():\n",
        "    params_count += torch.numel(param)\n",
        "print(f\"Сеть имеет {params_count} параметров\")"
      ],
      "metadata": {
        "colab": {
          "base_uri": "https://localhost:8080/"
        },
        "id": "XwLeG2bQyJOA",
        "outputId": "137b2cb0-6710-423f-fafc-6aad8e420394"
      },
      "execution_count": null,
      "outputs": [
        {
          "output_type": "stream",
          "name": "stdout",
          "text": [
            "Сеть имеет 204042 параметров\n"
          ]
        }
      ]
    },
    {
      "cell_type": "code",
      "source": [
        "model_batch, min_loss_batch = train(model_batch, train_loader, val_loader, criterion, optimizer_batch, 30)"
      ],
      "metadata": {
        "colab": {
          "base_uri": "https://localhost:8080/",
          "height": 487
        },
        "id": "GhmwUfZxyTrv",
        "outputId": "86558dfe-9efb-46f6-efb0-e2c0359c7e8d"
      },
      "execution_count": null,
      "outputs": [
        {
          "output_type": "display_data",
          "data": {
            "text/plain": [
              "<Figure size 800x500 with 1 Axes>"
            ],
            "image/png": "[encoded data removed]"
          },
          "metadata": {}
        }
      ]
    },
    {
      "cell_type": "code",
      "source": [
        "from sklearn.metrics import accuracy_score, precision_score, recall_score, f1_score\n",
        "\n",
        "model_batch.eval()\n",
        "\n",
        "accuracy_base_batch = 0\n",
        "precision_base_batch = 0\n",
        "recall_base_batch = 0\n",
        "f1_base_batch = 0\n",
        "\n",
        "with torch.no_grad():\n",
        "    for X_batch, y_batch in test_loader:\n",
        "        y_pred = torch.argmax(model_batch(X_batch), dim=1)\n",
        "        accuracy_base_batch += accuracy_score(y_pred, y_batch)\n",
        "        precision_base_batch += precision_score(y_pred, y_batch, average='macro')\n",
        "        recall_base_batch += recall_score(y_pred, y_batch, average='macro')\n",
        "        f1_base_batch += f1_score(y_pred, y_batch, average='macro')\n",
        "\n",
        "k = len(test_loader)\n",
        "\n",
        "accuracy_base_batch /= k\n",
        "precision_base_batch /= k\n",
        "recall_base_batch /= k\n",
        "f1_base_batch /= k\n",
        "\n",
        "new_log = [\n",
        "    accuracy_base_batch,\n",
        "    precision_base_batch,\n",
        "    recall_base_batch,\n",
        "    f1_base_batch,\n",
        "    min_loss_batch,\n",
        "    30\n",
        "]\n",
        "\n",
        "research_info['model_batch'] = new_log\n",
        "\n",
        "print(f\"Данные для будущей таблички: {new_log}\")"
      ],
      "metadata": {
        "colab": {
          "base_uri": "https://localhost:8080/"
        },
        "id": "fJ0Bao57b2c7",
        "outputId": "2dd08ee0-dfe0-4daf-8723-fc6f44113e7d"
      },
      "execution_count": null,
      "outputs": [
        {
          "output_type": "stream",
          "name": "stderr",
          "text": [
            "/usr/local/lib/python3.11/dist-packages/sklearn/metrics/_classification.py:1565: UndefinedMetricWarning: Precision is ill-defined and being set to 0.0 in labels with no predicted samples. Use `zero_division` parameter to control this behavior.\n",
            "  _warn_prf(average, modifier, f\"{metric.capitalize()} is\", len(result))\n"
          ]
        },
        {
          "output_type": "stream",
          "name": "stdout",
          "text": [
            "Данные для будущей таблички: [0.9778065286624203, 0.9770708855899938, 0.9776278887425385, 0.9749707371955021, 0.06767281701999671, 30]\n"
          ]
        }
      ]
    },
    {
      "cell_type": "markdown",
      "source": [
        "# Нейронная сеть с Dropout (0.3) и BatchNorm вместе + скрытый слой"
      ],
      "metadata": {
        "id": "oYpkLghlzYeX"
      }
    },
    {
      "cell_type": "code",
      "source": [
        "# напишем модель c dropout и batchnorm\n",
        "class Net_batchnorm_dropout(nn.Module):\n",
        "    def __init__(self):\n",
        "        super(Net_batchnorm_dropout, self).__init__()\n",
        "\n",
        "        self.fc1 = nn.Linear(784, 256)\n",
        "        self.fc2 = nn.Linear(256, 128)\n",
        "        self.btch1 = nn.BatchNorm1d(256)\n",
        "        self.btch2 = nn.BatchNorm1d(128)\n",
        "        self.drp = nn.Dropout(0.3)\n",
        "        self.act2 = nn.ReLU()\n",
        "        self.act1 = nn.Tanh()\n",
        "\n",
        "        self.fc3 = nn.Linear(128, 10)\n",
        "        #self.act2 = nn.Softmax(dim=1) кросс-энтропия принимает логиты на вход\n",
        "\n",
        "    def forward(self, x):\n",
        "        x = self.fc1(x)\n",
        "        x = self.btch1(x)\n",
        "        x = self.act1(x)\n",
        "        x = self.drp(x)\n",
        "\n",
        "        x = self.fc2(x)\n",
        "        x = self.btch2(x)\n",
        "        x = self.act2(x)\n",
        "        x = self.drp(x)\n",
        "\n",
        "        x = self.fc3(x)\n",
        "\n",
        "        return x"
      ],
      "metadata": {
        "id": "enNTmXogdDYI"
      },
      "execution_count": null,
      "outputs": []
    },
    {
      "cell_type": "code",
      "source": [
        "model_batch_drop = Net_batchnorm_dropout()"
      ],
      "metadata": {
        "id": "01lebNZ7ffUA"
      },
      "execution_count": null,
      "outputs": []
    },
    {
      "cell_type": "code",
      "source": [
        "# net summary\n",
        "model_batch_drop"
      ],
      "metadata": {
        "colab": {
          "base_uri": "https://localhost:8080/"
        },
        "id": "1ouvDnKQfpc0",
        "outputId": "a709d945-bc16-4df8-fa38-fbd0028cc9f5"
      },
      "execution_count": null,
      "outputs": [
        {
          "output_type": "execute_result",
          "data": {
            "text/plain": [
              "Net_batchnorm_dropout(\n",
              "  (fc1): Linear(in_features=784, out_features=256, bias=True)\n",
              "  (fc2): Linear(in_features=256, out_features=128, bias=True)\n",
              "  (btch1): BatchNorm1d(256, eps=1e-05, momentum=0.1, affine=True, track_running_stats=True)\n",
              "  (btch2): BatchNorm1d(128, eps=1e-05, momentum=0.1, affine=True, track_running_stats=True)\n",
              "  (drp): Dropout(p=0.3, inplace=False)\n",
              "  (act2): ReLU()\n",
              "  (act1): Tanh()\n",
              "  (fc3): Linear(in_features=128, out_features=10, bias=True)\n",
              ")"
            ]
          },
          "metadata": {},
          "execution_count": 86
        }
      ]
    },
    {
      "cell_type": "code",
      "source": [
        "# лосс-функция — кросс-энтропия\n",
        "criterion = torch.nn.CrossEntropyLoss()\n",
        "\n",
        "# буду использовать Adam, он быстрее чем SGD\n",
        "optimizer_batch_drop = torch.optim.Adam(model_batch_drop.parameters())"
      ],
      "metadata": {
        "id": "c2vDdVLS2URz"
      },
      "execution_count": null,
      "outputs": []
    },
    {
      "cell_type": "code",
      "source": [
        "params_count = 0\n",
        "for param in model_batch_drop.parameters():\n",
        "    params_count += torch.numel(param)\n",
        "print(f\"Сеть имеет {params_count} параметров\")"
      ],
      "metadata": {
        "colab": {
          "base_uri": "https://localhost:8080/"
        },
        "id": "YV3GQYC02gJt",
        "outputId": "f3a13a2a-d17c-444f-e92b-aeee972ddd68"
      },
      "execution_count": null,
      "outputs": [
        {
          "output_type": "stream",
          "name": "stdout",
          "text": [
            "Сеть имеет 235914 параметров\n"
          ]
        }
      ]
    },
    {
      "cell_type": "code",
      "source": [
        "model_batch_drop, min_loss_batch_drop = train(model_batch_drop, train_loader, val_loader, criterion, optimizer_batch_drop, 30)"
      ],
      "metadata": {
        "colab": {
          "base_uri": "https://localhost:8080/",
          "height": 487
        },
        "id": "weaJAA-I2n8n",
        "outputId": "a2abea70-b358-4595-c630-014e4789ca95"
      },
      "execution_count": null,
      "outputs": [
        {
          "output_type": "display_data",
          "data": {
            "text/plain": [
              "<Figure size 800x500 with 1 Axes>"
            ],
            "image/png": "[encoded data removed]"
          },
          "metadata": {}
        }
      ]
    },
    {
      "cell_type": "code",
      "source": [
        "from sklearn.metrics import accuracy_score, precision_score, recall_score, f1_score\n",
        "\n",
        "model_batch_drop.eval()\n",
        "\n",
        "accuracy_base_batch_drop = 0\n",
        "precision_base_batch_drop = 0\n",
        "recall_base_batch_drop = 0\n",
        "f1_base_batch_drop = 0\n",
        "\n",
        "with torch.no_grad():\n",
        "    for X_batch, y_batch in test_loader:\n",
        "        y_pred = torch.argmax(model_batch_drop(X_batch), dim=1)\n",
        "        accuracy_base_batch_drop += accuracy_score(y_pred, y_batch)\n",
        "        precision_base_batch_drop += precision_score(y_pred, y_batch, average='macro')\n",
        "        recall_base_batch_drop += recall_score(y_pred, y_batch, average='macro')\n",
        "        f1_base_batch_drop += f1_score(y_pred, y_batch, average='macro')\n",
        "\n",
        "k = len(test_loader)\n",
        "\n",
        "accuracy_base_batch_drop /= k\n",
        "precision_base_batch_drop /= k\n",
        "recall_base_batch_drop /= k\n",
        "f1_base_batch_drop /= k\n",
        "\n",
        "new_log = [\n",
        "    accuracy_base_batch_drop,\n",
        "    precision_base_batch_drop,\n",
        "    recall_base_batch_drop,\n",
        "    f1_base_batch_drop,\n",
        "    min_loss_batch_drop,\n",
        "    30\n",
        "]\n",
        "\n",
        "research_info['model_batch_drop'] = new_log\n",
        "\n",
        "print(f\"Данные для будущей таблички: {new_log}\")"
      ],
      "metadata": {
        "colab": {
          "base_uri": "https://localhost:8080/"
        },
        "id": "kGM6iOfsgmdE",
        "outputId": "045ef633-2977-4747-e5b2-d919e707e8a5"
      },
      "execution_count": null,
      "outputs": [
        {
          "output_type": "stream",
          "name": "stderr",
          "text": [
            "/usr/local/lib/python3.11/dist-packages/sklearn/metrics/_classification.py:1565: UndefinedMetricWarning: Precision is ill-defined and being set to 0.0 in labels with no predicted samples. Use `zero_division` parameter to control this behavior.\n",
            "  _warn_prf(average, modifier, f\"{metric.capitalize()} is\", len(result))\n"
          ]
        },
        {
          "output_type": "stream",
          "name": "stdout",
          "text": [
            "Данные для будущей таблички: [0.981687898089172, 0.9801423558748401, 0.9811670406734101, 0.9788138092863164, 0.05562845339869803, 30]\n"
          ]
        }
      ]
    },
    {
      "cell_type": "markdown",
      "source": [
        "# Нейронная сеть с маленьким количеством параметров"
      ],
      "metadata": {
        "id": "Ixo5JJahBdae"
      }
    },
    {
      "cell_type": "code",
      "source": [
        "# напишем модель c dropout 0.3\n",
        "class Net_few(nn.Module):\n",
        "    def __init__(self):\n",
        "        super(Net_few, self).__init__()\n",
        "\n",
        "        self.drp = nn.Dropout(0.3)\n",
        "\n",
        "        self.fc1 = nn.Linear(784, 8)\n",
        "        self.act1 = nn.ReLU()\n",
        "\n",
        "        self.fc2 = nn.Linear(8, 10)\n",
        "        #self.act2 = nn.Softmax(dim=1) кросс-энтропия принимает логиты на вход\n",
        "\n",
        "    def forward(self, x):\n",
        "        x = self.fc1(x)\n",
        "        x = self.drp(x)\n",
        "\n",
        "        x = self.act1(x)\n",
        "\n",
        "        x = self.fc2(x)\n",
        "\n",
        "        return x"
      ],
      "metadata": {
        "id": "Q45mBlBiBr9G"
      },
      "execution_count": null,
      "outputs": []
    },
    {
      "cell_type": "code",
      "source": [
        "model_few = Net_few()"
      ],
      "metadata": {
        "id": "kREU-OZcCDNY"
      },
      "execution_count": null,
      "outputs": []
    },
    {
      "cell_type": "code",
      "source": [
        "# net summary\n",
        "model_few"
      ],
      "metadata": {
        "colab": {
          "base_uri": "https://localhost:8080/"
        },
        "id": "_-Uvrn5uCMx3",
        "outputId": "d1d856dc-8bae-4dd0-e406-02c1eb4b45fb"
      },
      "execution_count": null,
      "outputs": [
        {
          "output_type": "execute_result",
          "data": {
            "text/plain": [
              "Net_few(\n",
              "  (drp): Dropout(p=0.3, inplace=False)\n",
              "  (fc1): Linear(in_features=784, out_features=8, bias=True)\n",
              "  (act1): ReLU()\n",
              "  (fc2): Linear(in_features=8, out_features=10, bias=True)\n",
              ")"
            ]
          },
          "metadata": {},
          "execution_count": 107
        }
      ]
    },
    {
      "cell_type": "code",
      "source": [
        "# лосс-функция — кросс-энтропия\n",
        "criterion = torch.nn.CrossEntropyLoss()\n",
        "\n",
        "# буду использовать Adam, он быстрее чем SGD\n",
        "optimizer_few = torch.optim.Adam(model_few.parameters())"
      ],
      "metadata": {
        "id": "bEvtYkeWCQve"
      },
      "execution_count": null,
      "outputs": []
    },
    {
      "cell_type": "code",
      "source": [
        "params_count = 0\n",
        "for param in model_few.parameters():\n",
        "    params_count += torch.numel(param)\n",
        "print(f\"Сеть имеет {params_count} параметров\")"
      ],
      "metadata": {
        "colab": {
          "base_uri": "https://localhost:8080/"
        },
        "id": "I_2MXw0ZCVtO",
        "outputId": "feea5bdb-192e-46ad-d356-bbdd87d62112"
      },
      "execution_count": null,
      "outputs": [
        {
          "output_type": "stream",
          "name": "stdout",
          "text": [
            "Сеть имеет 6370 параметров\n"
          ]
        }
      ]
    },
    {
      "cell_type": "code",
      "source": [
        "model_few, min_loss_few = train(model_few, train_loader, val_loader, criterion, optimizer_few, 30)"
      ],
      "metadata": {
        "colab": {
          "base_uri": "https://localhost:8080/",
          "height": 487
        },
        "id": "Tivm2C50CZ61",
        "outputId": "f73d1600-0f61-4165-8745-39666bf3f833"
      },
      "execution_count": null,
      "outputs": [
        {
          "output_type": "display_data",
          "data": {
            "text/plain": [
              "<Figure size 800x500 with 1 Axes>"
            ],
            "image/png": "[encoded data removed]"
          },
          "metadata": {}
        }
      ]
    },
    {
      "cell_type": "code",
      "source": [
        "from sklearn.metrics import accuracy_score, precision_score, recall_score, f1_score\n",
        "\n",
        "model_few.eval()\n",
        "\n",
        "accuracy_base_few = 0\n",
        "precision_base_few = 0\n",
        "recall_base_few = 0\n",
        "f1_base_few = 0\n",
        "\n",
        "with torch.no_grad():\n",
        "    for X_batch, y_batch in test_loader:\n",
        "        y_pred = torch.argmax(model_few(X_batch), dim=1)\n",
        "        accuracy_base_few += accuracy_score(y_pred, y_batch)\n",
        "        precision_base_few += precision_score(y_pred, y_batch, average='macro')\n",
        "        recall_base_few += recall_score(y_pred, y_batch, average='macro')\n",
        "        f1_base_few += f1_score(y_pred, y_batch, average='macro')\n",
        "\n",
        "k = len(test_loader)\n",
        "\n",
        "accuracy_base_few /= k\n",
        "precision_base_few /= k\n",
        "recall_base_few /= k\n",
        "f1_base_few /= k\n",
        "\n",
        "new_log = [\n",
        "    accuracy_base_few,\n",
        "    precision_base_few,\n",
        "    recall_base_few,\n",
        "    f1_base_few,\n",
        "    min_loss_few,\n",
        "    150\n",
        "]\n",
        "\n",
        "research_info['model_few'] = new_log\n",
        "\n",
        "print(f\"Данные для будущей таблички: {new_log}\")"
      ],
      "metadata": {
        "colab": {
          "base_uri": "https://localhost:8080/"
        },
        "id": "I6pMnoFWCwRd",
        "outputId": "65ed892d-886b-4702-84f1-a106da4ff7e5"
      },
      "execution_count": null,
      "outputs": [
        {
          "output_type": "stream",
          "name": "stderr",
          "text": [
            "/usr/local/lib/python3.11/dist-packages/sklearn/metrics/_classification.py:1565: UndefinedMetricWarning: Precision is ill-defined and being set to 0.0 in labels with no predicted samples. Use `zero_division` parameter to control this behavior.\n",
            "  _warn_prf(average, modifier, f\"{metric.capitalize()} is\", len(result))\n",
            "/usr/local/lib/python3.11/dist-packages/sklearn/metrics/_classification.py:1565: UndefinedMetricWarning: Precision is ill-defined and being set to 0.0 in labels with no predicted samples. Use `zero_division` parameter to control this behavior.\n",
            "  _warn_prf(average, modifier, f\"{metric.capitalize()} is\", len(result))\n",
            "/usr/local/lib/python3.11/dist-packages/sklearn/metrics/_classification.py:1565: UndefinedMetricWarning: Recall is ill-defined and being set to 0.0 in labels with no true samples. Use `zero_division` parameter to control this behavior.\n",
            "  _warn_prf(average, modifier, f\"{metric.capitalize()} is\", len(result))\n",
            "/usr/local/lib/python3.11/dist-packages/sklearn/metrics/_classification.py:1565: UndefinedMetricWarning: Recall is ill-defined and being set to 0.0 in labels with no true samples. Use `zero_division` parameter to control this behavior.\n",
            "  _warn_prf(average, modifier, f\"{metric.capitalize()} is\", len(result))\n"
          ]
        },
        {
          "output_type": "stream",
          "name": "stdout",
          "text": [
            "Данные для будущей таблички: [0.8817675159235668, 0.8780904034144951, 0.8818173846677033, 0.8690805121487403, 0.447046789505803, 150]\n"
          ]
        },
        {
          "output_type": "stream",
          "name": "stderr",
          "text": [
            "/usr/local/lib/python3.11/dist-packages/sklearn/metrics/_classification.py:1565: UndefinedMetricWarning: Recall is ill-defined and being set to 0.0 in labels with no true samples. Use `zero_division` parameter to control this behavior.\n",
            "  _warn_prf(average, modifier, f\"{metric.capitalize()} is\", len(result))\n",
            "/usr/local/lib/python3.11/dist-packages/sklearn/metrics/_classification.py:1565: UndefinedMetricWarning: Recall is ill-defined and being set to 0.0 in labels with no true samples. Use `zero_division` parameter to control this behavior.\n",
            "  _warn_prf(average, modifier, f\"{metric.capitalize()} is\", len(result))\n"
          ]
        }
      ]
    },
    {
      "cell_type": "markdown",
      "source": [
        "# Создание таблицы отчета"
      ],
      "metadata": {
        "id": "iS2XaVol3w1e"
      }
    },
    {
      "cell_type": "code",
      "source": [
        "from prettytable import PrettyTable\n",
        "\n",
        "table = PrettyTable()\n",
        "\n",
        "table.field_names = [\n",
        "    \"Номер эксперимента\",\n",
        "    \"Мин. ошибка (валидация)\",\n",
        "    \"Accuracy (тест)\",\n",
        "    \"Precision (тест)\",\n",
        "    \"Recall (тест)\",\n",
        "    \"F1-score (тест)\"\n",
        "]\n",
        "\n",
        "for i, exp in enumerate(research_info.values()):\n",
        "    table.add_row([\n",
        "        i + 1,\n",
        "        f\"{exp[4]:.3f}\",\n",
        "        f\"{exp[0]:.3f}\",\n",
        "        f\"{exp[1]:.3f}\",\n",
        "        f\"{exp[2]:.3f}\",\n",
        "        f\"{exp[3]:.3f}\"\n",
        "    ])\n",
        "\n",
        "print(table)"
      ],
      "metadata": {
        "colab": {
          "base_uri": "https://localhost:8080/"
        },
        "id": "nU6WqwLo3z5z",
        "outputId": "999fc64f-cf1d-4495-d3cd-1387dfc31ed1"
      },
      "execution_count": null,
      "outputs": [
        {
          "output_type": "stream",
          "name": "stdout",
          "text": [
            "+--------------------+-------------------------+-----------------+------------------+---------------+-----------------+\n",
            "| Номер эксперимента | Мин. ошибка (валидация) | Accuracy (тест) | Precision (тест) | Recall (тест) | F1-score (тест) |\n",
            "+--------------------+-------------------------+-----------------+------------------+---------------+-----------------+\n",
            "|         1          |          0.070          |      0.981      |      0.981       |     0.980     |      0.979      |\n",
            "|         2          |          0.071          |      0.978      |      0.978       |     0.978     |      0.976      |\n",
            "|         3          |          0.076          |      0.979      |      0.979       |     0.980     |      0.977      |\n",
            "|         4          |          0.063          |      0.982      |      0.982       |     0.982     |      0.980      |\n",
            "|         5          |          0.068          |      0.978      |      0.977       |     0.978     |      0.975      |\n",
            "|         6          |          0.056          |      0.982      |      0.980       |     0.981     |      0.979      |\n",
            "|         7          |          0.447          |      0.882      |      0.878       |     0.882     |      0.869      |\n",
            "+--------------------+-------------------------+-----------------+------------------+---------------+-----------------+\n"
          ]
        }
      ]
    },
    {
      "cell_type": "markdown",
      "source": [
        "# Выводы по работе"
      ],
      "metadata": {
        "id": "bjj2u0Nw7ljA"
      }
    },
    {
      "cell_type": "markdown",
      "source": [
        "1. Сравним первые 2 эксперимента: на первом получили скор лучше, хотя я делал обратное предположение (остановили обучение раньше, в точке где лосс на валидации меньше всего), видимо первой модели не хватило эпох, чтобы переобучиться и из-за этого скор примерно одиноковый <p>\n",
        "А вообще для того чтобы вовремя остановить обучение в pytorch ignite есть специальный класс EarlyStopping\n",
        "2. Сравним разные Dropout сети (3 и 4 эксперименты): видно, что на 4 скор лучше. Предполагаю это из-за того, что в 3-ем мы отключили слишком много нейронов и из-за этого модель недообучилась\n",
        "3. Сравним 4 (лучший скор) и 6 (самая сложная модель) эксперименты: 6 модель это 4-ая + BatchNorm и дополнительный скрытый слой, как мы видим метрики одинаково хорошие, а значит можно сделать вывод, что BatchNorm и увелечение количества параметров не дали улучшений\n",
        "4. Сравнивая модели с Dropout и без можно сразу увидеть, что с ним лосс не стремится расти, когда как без него о устремляется вверх\n",
        "5. Как и ожидалось маленькое количество параметров (7) приводит к недообучению (возможно, если бы мы поставили очень много эпох она бы и обучилась, а возможно и нет), может маленькое количество параметров не позволяет нейросети выявлять сложные зависимости\n",
        "6. BatchNorm не дал существенного эффекта, возможно из за того, что у нас значения и так в интервале [0, 1], то есть разброс фиксированный, а это уже в каком то плане нормализованные данные"
      ],
      "metadata": {
        "id": "kOW57Mff8IXe"
      }
    },
    {
      "cell_type": "markdown",
      "source": [
        "Поставьте максимальный балл, пожалуйста ✨"
      ],
      "metadata": {
        "id": "gPBImJ3WFnqg"
      }
    }
  ]
}