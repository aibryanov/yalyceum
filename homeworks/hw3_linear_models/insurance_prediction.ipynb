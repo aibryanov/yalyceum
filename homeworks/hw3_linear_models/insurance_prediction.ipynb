{
  "cells": [
    {
      "cell_type": "markdown",
      "metadata": {
        "id": "GNifsx2Twf07"
      },
      "source": [
        "# Домашнее задание - линейная регрессия"
      ]
    },
    {
      "cell_type": "markdown",
      "metadata": {
        "id": "6HdN5rVRwf0_"
      },
      "source": [
        "### Работа с признаками (8 баллов)"
      ]
    },
    {
      "cell_type": "markdown",
      "metadata": {
        "id": "h0ZL_y5Uwf1A"
      },
      "source": [
        "Скачайте датасет из материалов к уроку или по ссылке https://raw.githubusercontent.com/jupiterzhuo/travel-insurance/master/travel%20insurance.csv\n",
        "\n",
        "\n",
        "Описание признаков:\n",
        "\n",
        "* Agency — название страхового агентства\n",
        "* Agency Type — тип страхового агентства\n",
        "* Distribution Channel — канал продвижения страхового агентства\n",
        "* Product Name — название страхового продукта\n",
        "* Duration — длительность поездки (количество дней)\n",
        "* Destination — направление поездки\n",
        "* Net Sales — сумма продаж\n",
        "* Commission (in value) — комиссия страхового агентства\n",
        "* Gender — пол застрахованного\n",
        "* Age — возраст застрахованного\n",
        "\n",
        "Ответ:\n",
        "* Claim — потребовалась ли страховая выплата: «да» — 1, «нет» — 0"
      ]
    },
    {
      "cell_type": "code",
      "execution_count": null,
      "metadata": {
        "id": "MwMAiqBQxzQ2"
      },
      "outputs": [],
      "source": [
        "# { импорт данных }\n",
        "\n",
        "import pandas as pd\n",
        "\n",
        "data = pd.read_csv(\"https://raw.githubusercontent.com/jupiterzhuo/travel-insurance/master/travel%20insurance.csv\")"
      ]
    },
    {
      "cell_type": "code",
      "execution_count": null,
      "metadata": {
        "id": "AOQlvsTz0Zf1"
      },
      "outputs": [],
      "source": [
        "# { написанные функции }\n",
        "import numpy as np\n",
        "\n",
        "def onehot_encoding(x: np.ndarray) -> np.ndarray:\n",
        "    sorted_types = sorted(list(set(x)))\n",
        "    hot = []\n",
        "\n",
        "    for i in x:\n",
        "        row = []\n",
        "        for j in sorted_types:\n",
        "            if j == i:\n",
        "                row.append(1)\n",
        "            else:\n",
        "                row.append(0)\n",
        "        hot.append(row)\n",
        "\n",
        "    return np.array(hot)\n",
        "\n",
        "def minmax_scale(X: np.ndarray) -> np.ndarray:\n",
        "    data_min = X.min(axis=0)\n",
        "    data_max = X.max(axis=0)\n",
        "\n",
        "    scale = data_max - data_min\n",
        "    scale[scale == 0] = 1\n",
        "\n",
        "    return (X - data_min) / scale"
      ]
    },
    {
      "cell_type": "markdown",
      "metadata": {
        "id": "qyuXa84cwf1B"
      },
      "source": [
        "Обработайте пропущенные значения и примените написанные функции onehot_encode() и minmax_scale().\n",
        "\n",
        "**Подсказка**: маску для категориальных признаков можно сделать фильтром cat_features_mask = (df.dtypes == \"object\").values"
      ]
    },
    {
      "cell_type": "code",
      "execution_count": null,
      "metadata": {
        "colab": {
          "base_uri": "https://localhost:8080/"
        },
        "id": "6dJy1HKhwf1B",
        "outputId": "e7ebffb7-0c2a-4f6b-c212-3d26cbd12515"
      },
      "outputs": [
        {
          "output_type": "execute_result",
          "data": {
            "text/plain": [
              "0.7122982661150239"
            ]
          },
          "metadata": {},
          "execution_count": 54
        }
      ],
      "source": [
        "data['Gender'].isna().sum() / data.shape[0] # больше 70% значений в Gender пропущено, дропну колонку\n",
        "\n",
        "# пробовал ее оставить, рассуждения такие были: хотя и много пропусков, но мы делаем downsampling, удаляя большую часть данных, а значит и особо\n",
        "# ничего не изменится (да, дропая пропуски мы остаемся без части данных, но тут это имеет смысл из за downsampling)\n",
        "# я пробовал оставить Gender, но на тестовой выборке я получил метрики хуже, чем с dropna, поэтому принял решение избавиться полностью от фичи"
      ]
    },
    {
      "cell_type": "code",
      "execution_count": null,
      "metadata": {
        "id": "mt0Qd4Jv1xpe"
      },
      "outputs": [],
      "source": [
        "data.drop(columns=['Gender'], inplace=True)"
      ]
    },
    {
      "cell_type": "code",
      "execution_count": null,
      "metadata": {
        "id": "LUw7QEW316h9"
      },
      "outputs": [],
      "source": [
        "# { кодирование и скейлинг буду применять после анализа }"
      ]
    },
    {
      "cell_type": "markdown",
      "metadata": {
        "id": "oXOde1RMwf1C"
      },
      "source": [
        "Подробный анализ и подготовка датасета часто помогают улучшить качество модели. Ниже представлено несколько идей преобразований. Вы можете применить одно или несколько из этих преобразований (а можете не применять), чтобы помочь будущей модели.\n",
        "\n",
        "1. Посмотрите на количественные признаки. Возможно, в некоторых признаках есть выбросы - значения, которые сильно выбиваются. Такие значения полезно удалять. Советуем присмотреться к колонке Duration)\n",
        "\n",
        "2. Можно заметить, что one hot encoding сильно раздувает количество столбцов. Радикальное решение - можно попробовать выбросить все категориальные признаки из датасета.\n",
        "\n",
        "3. Если все-таки оставляете категориальные признаки, то подумайте, как уменьшить количество столбцов после one hot encoding. Признаки с большим количеством значений (Duration - 149! разных стран) можно удалить или попробовать сгруппировать некоторые значения.\n",
        "\n",
        "4. Downsampling. Датасет достаточно большой, разница в классах огромная. Можно уменьшить число наблюдений с частым ответом."
      ]
    },
    {
      "cell_type": "code",
      "execution_count": null,
      "metadata": {
        "id": "fw5rRTLtnf0j",
        "colab": {
          "base_uri": "https://localhost:8080/",
          "height": 406
        },
        "outputId": "b8ae6174-4502-4be9-f53f-01d2be50a378"
      },
      "outputs": [
        {
          "output_type": "display_data",
          "data": {
            "text/plain": [
              "<Figure size 640x480 with 1 Axes>"
            ],
            "image/png": "[encoded data removed]"
          },
          "metadata": {}
        }
      ],
      "source": [
        "import matplotlib.pyplot as plt\n",
        "\n",
        "plt.pie(data['Claim'].value_counts(), labels=data['Claim'].value_counts().index)\n",
        "plt.show()\n",
        "\n",
        "# наблюдаем сильный дизбаланс таргета, будем проводить downsampling"
      ]
    },
    {
      "cell_type": "code",
      "source": [
        "data['Claim'] = np.where(data['Claim'] == 'Yes', 1, 0)\n",
        "data['Agency Type'] = np.where(data['Agency Type'] == 'Airlines', 1, 0)\n",
        "data['Distribution Channel'] = np.where(data['Distribution Channel'] == 'Online', 1, 0)\n",
        "\n",
        "# переведем бинарные фичи в int"
      ],
      "metadata": {
        "id": "dR3qd9ht0r6a"
      },
      "execution_count": null,
      "outputs": []
    },
    {
      "cell_type": "code",
      "execution_count": null,
      "metadata": {
        "id": "Qc6crnlS6msT"
      },
      "outputs": [],
      "source": [
        "# 1. проанадизируем значения детально, чтобы выявить аномалии\n",
        "\n",
        "# в Duration есть значения < 0, сомнительно, но можем предположить, что поездка еще не состоялась (не буду удалять)\n",
        "# data['Duration'].sort_values().head(10)\n",
        "\n",
        "# я пытался с помощью GPT сгруппировать страны на развитые, развивающиеся и бедные, но он не смог, а вручную долго. Просто удалю\n",
        "data.drop(columns=['Destination'], inplace=True)\n",
        "\n",
        "# Age, Net Sales, Commision проанализировал, там нет каких то аномальных значений\n",
        "\n",
        "# Есть идеи насчет Agency: можно как то погуглить и разделить компании по разным категориям (пусть по тому в какой стране зарегистрировано агентство или\n",
        "# насколько давно было зарегистрировано агентство), но я удалю (ибо если кодировать без группировки размерность сильно раздувается, у нас и так после\n",
        "# downsampling останется мало записей)\n",
        "\n",
        "# В Product name в названиях есть слова Silver, Platinum и тд. Можно сгруппировать по премиальности продукта (пробовал, получил метрики хуже)\n",
        "# data.drop(columns=['Product Name'], inplace=True)\n"
      ]
    },
    {
      "cell_type": "code",
      "source": [
        "data.drop(columns=['Agency'], inplace=True)"
      ],
      "metadata": {
        "id": "FtRL7xAV3pdj"
      },
      "execution_count": null,
      "outputs": []
    },
    {
      "cell_type": "code",
      "source": [
        "def name_group(name) -> np.ndarray:\n",
        "    if 'comprehensive' in name.lower():\n",
        "        return 'comprehensive'\n",
        "    elif 'basic' in name.lower() or 'bronze' in name.lower():\n",
        "        return 'low'\n",
        "    elif 'silver' in name.lower():\n",
        "        return 'mid'\n",
        "    elif 'gold' in name.lower() or 'platinum' in name.lower() or 'premier' in name.lower():\n",
        "        return 'high'\n",
        "    return 'other'\n",
        "\n",
        "# пробовал с группировкой и ohe, но метрики получил хуже"
      ],
      "metadata": {
        "id": "HK1m3Fux3hKz"
      },
      "execution_count": null,
      "outputs": []
    },
    {
      "cell_type": "code",
      "source": [
        "# data['Product Name'] = data['Product Name'].apply(lambda x: name_group(x)) отказался от этой идеи"
      ],
      "metadata": {
        "id": "msIQ4YaiMjQk"
      },
      "execution_count": null,
      "outputs": []
    },
    {
      "cell_type": "code",
      "source": [
        "# data = pd.concat([data, pd.DataFrame(onehot_encoding(np.array(data['Product Name'])))], axis=1) отказался\n",
        "data.drop(columns=['Product Name'], inplace=True)"
      ],
      "metadata": {
        "id": "ucKvNf5ZNb5c"
      },
      "execution_count": null,
      "outputs": []
    },
    {
      "cell_type": "code",
      "source": [
        "# я бы разделял данные сразу, чтобы избежать возможных утечек данных, но требуется применить свой minmax scale, который возвращает np.array, с которым\n",
        "# неудобно проводить анализ данных, поэтому разделил только сейчас\n",
        "from sklearn.model_selection import train_test_split\n",
        "from imblearn.under_sampling import RandomUnderSampler\n",
        "\n",
        "X = minmax_scale(np.array(data.drop(columns=['Claim'])))  # применю здесь свой minmax_scale (хотя я бы использовал встроенный и засунул бы его в пайплайн)\n",
        "y = np.array(data['Claim'].copy())\n",
        "\n",
        "rus = RandomUnderSampler(random_state=42)\n",
        "X_resampled, y_resampled = rus.fit_resample(X, y) # downsampling\n",
        "\n",
        "X_train, X_test, y_train, y_test = train_test_split(\n",
        "    X_resampled, y_resampled, test_size=0.33, random_state=42)\n",
        "\n",
        "X_train_nodown, X_test_nodown, y_train_nodown, y_test_nodown = train_test_split(\n",
        "    X, y, test_size=0.33, random_state=42)"
      ],
      "metadata": {
        "id": "oUgz9ctp0mhK"
      },
      "execution_count": null,
      "outputs": []
    },
    {
      "cell_type": "markdown",
      "metadata": {
        "id": "XD8Su9kVwf1D"
      },
      "source": [
        "### Применение линейной регрессии (10 баллов)"
      ]
    },
    {
      "cell_type": "markdown",
      "metadata": {
        "id": "In2NfQlCwf1D"
      },
      "source": [
        "Это задача классификации, но её можно решить с помощью линейной регрессии, если округлять предсказанный ответ до целого и выбирать ближайший по значению ответ из множества {0, 1}.\n",
        "\n",
        "Вынесите признак 'Claim' в вектор ответов и разделите датасет на обучающую и тестовую выборку в соотношении 80 к 20. Зафиксируйте random_state.\n",
        "\n",
        "**Подсказка:** быстро перевести Yes/No в 1/0 можно так - np.where(df['Claim'] == 'Yes', 1,0)"
      ]
    },
    {
      "cell_type": "markdown",
      "metadata": {
        "id": "WisUECNJwf1E"
      },
      "source": [
        "Найдите аналитическое решение для обучающей выборки: обычное и регуляризацией l2."
      ]
    },
    {
      "cell_type": "code",
      "execution_count": null,
      "metadata": {
        "id": "H2SLZTM4wf1E"
      },
      "outputs": [],
      "source": [
        "# посчитайте аналитическое решение\n",
        "lambda_ = 1  # Коэффициент регуляризации\n",
        "\n",
        "# Добавляем столбец единиц для свободного члена\n",
        "X_new = np.hstack([np.ones((X_train.shape[0], 1)), X_train])\n",
        "\n",
        "# Здесь регуляризация применяется ко всем коэффициентам (в том числе и к свободному члену)\n",
        "\n",
        "analyt = np.linalg.inv(X_new.T @ X_new) @ X_new.T @ y_train # при ohe я получил ошибку singular matrix, так как мной написанный метод не учитывает\n",
        "# возникновение мультиколлиниарности (не инверитруемая матрица), хотя можно вручную удалить один из столбцов ohe"
      ]
    },
    {
      "cell_type": "code",
      "execution_count": null,
      "metadata": {
        "id": "vaNdDhG8wf1E"
      },
      "outputs": [],
      "source": [
        "# посчитать аналитическое решение с регуляризацией\n",
        "analyt_ridge = np.linalg.inv(X_new.T @ X_new + lambda_ * np.eye(X_new.shape[1])) @ X_new.T @ y_train"
      ]
    },
    {
      "cell_type": "markdown",
      "metadata": {
        "id": "A2m5sedKwf1E"
      },
      "source": [
        "Постройте модель LinearRegression, примените к тестовой выборке и посчитайте MSE (можно использовать библиотеку sklearn)"
      ]
    },
    {
      "cell_type": "code",
      "execution_count": null,
      "metadata": {
        "id": "CjDHKiTQwf1E"
      },
      "outputs": [],
      "source": [
        "from sklearn.linear_model import LinearRegression\n",
        "from sklearn.linear_model import Ridge\n",
        "from sklearn.metrics import mean_squared_error\n",
        "\n",
        "reg = LinearRegression().fit(X_train, y_train)\n",
        "reg_ridge = Ridge().fit(X_train, y_train)\n",
        "y_pred = reg.predict(X_test)\n",
        "y_pred_ridge = reg_ridge.predict(X_test)\n",
        "y_pred_ridge_nodown = reg_ridge.predict(X_test_nodown)  # посмотрим на большем размере выборки\n"
      ]
    },
    {
      "cell_type": "code",
      "source": [
        "from sklearn.preprocessing import minmax_scale\n",
        "\n",
        "y_pred_scaled = minmax_scale(y_pred_ridge)\n",
        "y_pred_bin = np.array([0 if x < 0.2 else 1 for x in y_pred_scaled]) # при таком пороге, получаю лучшие метрики на test\n",
        "\n",
        "y_pred_scaled_nodown = minmax_scale(y_pred_ridge_nodown)\n",
        "y_pred_bin_nodown = np.array([0 if x < 0.2 else 1 for x in y_pred_scaled_nodown])"
      ],
      "metadata": {
        "id": "q7f0e-AtZY8d"
      },
      "execution_count": null,
      "outputs": []
    },
    {
      "cell_type": "code",
      "source": [
        "print(mean_squared_error(y_test, y_pred_bin))\n",
        "print(mean_squared_error(y_test_nodown, y_pred_bin_nodown))"
      ],
      "metadata": {
        "colab": {
          "base_uri": "https://localhost:8080/"
        },
        "id": "FY5MaVRBbJ7g",
        "outputId": "c6c18b0b-b3da-442b-e77d-62243c993c8e"
      },
      "execution_count": null,
      "outputs": [
        {
          "output_type": "stream",
          "name": "stdout",
          "text": [
            "0.2875816993464052\n",
            "0.31969566465690497\n"
          ]
        }
      ]
    },
    {
      "cell_type": "code",
      "source": [
        "len(y_pred_bin_nodown)"
      ],
      "metadata": {
        "colab": {
          "base_uri": "https://localhost:8080/"
        },
        "id": "_3Aum8qD7jAh",
        "outputId": "d8becb75-b5b4-43f5-f567-65c15f71e274"
      },
      "execution_count": null,
      "outputs": [
        {
          "output_type": "execute_result",
          "data": {
            "text/plain": [
              "20898"
            ]
          },
          "metadata": {},
          "execution_count": 91
        }
      ]
    },
    {
      "cell_type": "code",
      "source": [
        "from sklearn.metrics import accuracy_score\n",
        "from sklearn.metrics import f1_score\n",
        "from sklearn.metrics import recall_score\n",
        "from sklearn.metrics import precision_score\n",
        "# в этой задаче важнее всего метрика recall, так как нам важна полнота, то есть если отметим claim единицей ошибочно (потребовалась страховка), то ничего\n",
        "# старшного, ведь мы можем, допустим, позвонить человеку и уточнить, а если вот пропустим человека, которому действительно потребовалась страховка\n",
        "# (случилось что то неприятное), то это плохо\n",
        "print('=====Возьмем тестовую из resampled=====')\n",
        "print(f\"accuracy: {accuracy_score(y_test, y_pred_bin)}\")  # без downsampling получаем accuracy близкий к 1, но f1 близкий к нулю из за дизбаланса классов\n",
        "print(f\"f1: {f1_score(y_test, y_pred_bin)}\")\n",
        "print(f\"recall: {recall_score(y_test, y_pred_bin)}\")\n",
        "print(f\"precision: {precision_score(y_test, y_pred_bin)}\")\n",
        "print('=====Возьмем тестовую из изначального датасета=====')\n",
        "print(f\"accuracy: {accuracy_score(y_test_nodown, y_pred_bin_nodown)}\")\n",
        "print(f\"f1: {f1_score(y_test_nodown, y_pred_bin_nodown)}\")\n",
        "print(f\"recall: {recall_score(y_test_nodown, y_pred_bin_nodown)}\")\n",
        "print(f\"precision: {precision_score(y_test_nodown, y_pred_bin_nodown)}\")"
      ],
      "metadata": {
        "colab": {
          "base_uri": "https://localhost:8080/"
        },
        "id": "UNnewT_Ub_AE",
        "outputId": "a18fa6f9-4ee5-4fe4-dc57-636c322822cd"
      },
      "execution_count": null,
      "outputs": [
        {
          "output_type": "stream",
          "name": "stdout",
          "text": [
            "=====Возьмем тестовую из resampled=====\n",
            "accuracy: 0.7124183006535948\n",
            "f1: 0.7188498402555911\n",
            "recall: 0.7352941176470589\n",
            "precision: 0.703125\n",
            "=====Возьмем тестовую из изначального датасета=====\n",
            "accuracy: 0.680304335343095\n",
            "f1: 0.06336744707696622\n",
            "recall: 0.7197452229299363\n",
            "precision: 0.0331426895439214\n"
          ]
        }
      ]
    },
    {
      "cell_type": "code",
      "source": [
        "# можно наблюдать как метрика precision стремится к нулю: это происходит из за того, что в изначальном датасете сильный перевес в пользу true negatives\n",
        "# а обучалась модель на сбалансированном маленьком датасете, из за чего модель хоть и с хорошей точностью определяет положительный класс (recall), но на\n",
        "# негативных классах она сильно хромает, но нам важно было получить хороший recall, так что справилась модель хорошо при наших условиях\n",
        "\n",
        "# можно предположить, что модель теперь втупую ставит единички на большей части датасета, но это опровергается достаточно высоким accuracy (хотя если\n",
        "# поменять порог приравнивания к нулю и единице таргета, recall может вырасти, но accuracy сильно упадет или наоборот, так что я выбрал золотую середину)"
      ],
      "metadata": {
        "id": "ePhP8orD-b3f"
      },
      "execution_count": null,
      "outputs": []
    },
    {
      "cell_type": "markdown",
      "metadata": {
        "id": "ZAn1dYSuwf1F"
      },
      "source": [
        "### Вывод (1 балла)"
      ]
    },
    {
      "cell_type": "markdown",
      "metadata": {
        "id": "bE2EEOi2wf1F"
      },
      "source": [
        "Напишите краткий вывод по заданию (достаточно пары предложений). Расскажите, какие способы предобработки данных вы выбрали и почему. Насколько хороша ваша модель?"
      ]
    },
    {
      "cell_type": "markdown",
      "source": [
        "Я считаю, я хорошо справился с задачей линейной регрессии, выбрал оптимальный способ предобработки данных и добился хорошего значения метрики recall при таком объеме данных (<2000 записей из за дизбаланса классов)"
      ],
      "metadata": {
        "id": "wf6gQc9s5pF7"
      }
    }
  ],
  "metadata": {
    "colab": {
      "provenance": []
    },
    "kernelspec": {
      "display_name": "Python 3",
      "name": "python3"
    },
    "language_info": {
      "codemirror_mode": {
        "name": "ipython",
        "version": 3
      },
      "file_extension": ".py",
      "mimetype": "text/x-python",
      "name": "python",
      "nbconvert_exporter": "python",
      "pygments_lexer": "ipython3",
      "version": "3.8.5"
    }
  },
  "nbformat": 4,
  "nbformat_minor": 0
}